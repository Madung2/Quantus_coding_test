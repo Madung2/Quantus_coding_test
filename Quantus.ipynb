{
  "nbformat": 4,
  "nbformat_minor": 0,
  "metadata": {
    "colab": {
      "name": "Quantus.ipynb",
      "provenance": [],
      "authorship_tag": "ABX9TyOH6o1YwqH5sQJAua3HRVgt",
      "include_colab_link": true
    },
    "kernelspec": {
      "name": "python3",
      "display_name": "Python 3"
    },
    "language_info": {
      "name": "python"
    }
  },
  "cells": [
    {
      "cell_type": "markdown",
      "metadata": {
        "id": "view-in-github",
        "colab_type": "text"
      },
      "source": [
        "<a href=\"https://colab.research.google.com/github/Madung2/Quantus_coding_test/blob/main/Quantus.ipynb\" target=\"_parent\"><img src=\"https://colab.research.google.com/assets/colab-badge.svg\" alt=\"Open In Colab\"/></a>"
      ]
    },
    {
      "cell_type": "markdown",
      "source": [
        "퀀터스 테크놀로지스 과제 \n",
        "\n",
        "## Description\n",
        "1. 숫자 `1` 혹은 `0`을 임의로 return 하는 `get_1_or_0` 함수를 구현하세요.\n",
        "\n",
        "> ```function get_1_or_0() => int```\n",
        "\n",
        "2. 1.에서 작성한 `get_1_or_0`을 이용하여 숫자 `n`을 인자로 받아 `0~n` 사이의 임의의 정수를 반환하는 `get_random` 함수를 구현하세요.\n",
        "\n",
        "> ```function get_random(int n) => int```\n",
        "\n",
        "3. 2.에서 작성한 `get_random` 함수에 대한 테스트 함수를 **최대한 넓은 범위**를 cover할 수 있도록 작성하고, 테스트 내역에 대한 보고서를 자유 형식으로 제출하세요.\n",
        "\n",
        "## 유의사항\n",
        "\n",
        "- 프로그래밍 언어 및 테스트 프레임워크에 제약은 없습니다.\n",
        "- `get_1_or_0`에서는 난수 생성 함수를 사용해도 괜찮으나, `get_random` 함수에서는 **절대!!** 난수 생성 함수를 직접 사용해서는 안됩니다. \n",
        "\n",
        "## 제출 가이드라인\n",
        "- quantus2022@gmail.com으로 코드 및 보고서를 압축하여 제출합니다. (보고서는 pdf 확장자로 작성하여 제출하세요.)"
      ],
      "metadata": {
        "id": "uA5bJgywIDZm"
      }
    },
    {
      "cell_type": "code",
      "source": [
        "from random import randrange\n",
        "def get_1_or_0():\n",
        "  return randrange(2)\n",
        "\n",
        "get_1_or_0()\n"
      ],
      "metadata": {
        "colab": {
          "base_uri": "https://localhost:8080/"
        },
        "id": "YsInJD1XIIor",
        "outputId": "a2600272-daa5-46cb-8873-d4fca3c69e2e"
      },
      "execution_count": 21,
      "outputs": [
        {
          "output_type": "execute_result",
          "data": {
            "text/plain": [
              "30"
            ]
          },
          "metadata": {},
          "execution_count": 21
        }
      ]
    },
    {
      "cell_type": "code",
      "source": [
        "def get_random(n):\n",
        "  '''0~n사이의 정수를 반환하는 함수'''\n",
        "\n",
        "  binary = format(n, 'b')\n",
        "  ls=[get_1_or_0() for i in binary] #길이가 4라면 0과 1을 4번 더하고 싶음\n",
        "  result= int(''.join(map(str,ls)),2)\n",
        "  if result>n:\n",
        "    return get_random(n)\n",
        "  return result\n",
        "\n",
        "get_random(5)\n"
      ],
      "metadata": {
        "colab": {
          "base_uri": "https://localhost:8080/"
        },
        "id": "0p3B8XDbcwMx",
        "outputId": "e3f755b1-8a2b-42e9-f9eb-d689d7686cee"
      },
      "execution_count": 112,
      "outputs": [
        {
          "output_type": "execute_result",
          "data": {
            "text/plain": [
              "3"
            ]
          },
          "metadata": {},
          "execution_count": 112
        }
      ]
    }
  ]
}